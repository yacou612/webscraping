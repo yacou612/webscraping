{
 "cells": [
  {
   "cell_type": "code",
   "execution_count": 1,
   "id": "c6d6b8e8",
   "metadata": {},
   "outputs": [],
   "source": [
    "import numpy as np\n",
    "import pandas as pd\n",
    "import requests"
   ]
  },
  {
   "cell_type": "code",
   "execution_count": null,
   "id": "be2c785e",
   "metadata": {},
   "outputs": [],
   "source": []
  },
  {
   "cell_type": "code",
   "execution_count": 2,
   "id": "28066cd3",
   "metadata": {},
   "outputs": [
    {
     "name": "stdout",
     "output_type": "stream",
     "text": [
      "Page:  1\n",
      "Page:  2\n",
      "Page:  3\n",
      "Page:  4\n",
      "Page:  5\n",
      "Page:  6\n",
      "Page:  7\n",
      "Page:  8\n",
      "Page:  9\n",
      "Page:  10\n",
      "Page:  11\n"
     ]
    }
   ],
   "source": [
    "for i in range(1, 12):\n",
    "    print(\"Page: \", i)\n",
    "    url = f'https://quotes.toscrape.com/page/{i}/'\n",
    "    r = requests.get(url)\n",
    "    html = r.text\n",
    "    with open('quotes.txt', 'a', encoding='utf-8') as f:\n",
    "        for line in html.split('\\n'):\n",
    "            if '<span class=\"text\" itemprop=\"text\">' in line:\n",
    "                line = line.replace('<span class=\"text\" itemprop=\"text\">“', '').replace('”</span>', '')\n",
    "                line = line.strip()\n",
    "                f.write(line)\n",
    "                f.write(\"\\n\")"
   ]
  },
  {
   "cell_type": "code",
   "execution_count": 3,
   "id": "937ad797",
   "metadata": {},
   "outputs": [],
   "source": [
    "import json\n",
    "with open('News.txt','w') as f:\n",
    "    for i in range(1,6):\n",
    "        url = f'https://www.espncricinfo.com/ci/content/story/data/index.json?;type=7;page={i}'\n",
    "        res = requests.get(url)\n",
    "        data = json.loads(res.text)\n",
    "        for news in data:\n",
    "            f.write(news['author']+' | '+news['summary'])\n",
    "            f.write('\\n')"
   ]
  },
  {
   "cell_type": "code",
   "execution_count": 4,
   "id": "a91dc8d1",
   "metadata": {},
   "outputs": [],
   "source": [
    "from bs4 import BeautifulSoup\n",
    "import requests\n",
    "r = requests.get('https://quotes.toscrape.com/')\n",
    "html = r.text\n",
    "soup = BeautifulSoup(html, 'html.parser')\n",
    "with open('bs4quotes.txt','w') as f:\n",
    "    for tag in soup.findAll('span', {'class': 'text'}):\n",
    "        f.write(tag.string)\n",
    "        f.write('\\n')"
   ]
  },
  {
   "cell_type": "code",
   "execution_count": 5,
   "id": "93273ad1",
   "metadata": {},
   "outputs": [
    {
     "name": "stdout",
     "output_type": "stream",
     "text": [
      "xyz\n",
      "abc 123\n",
      "{'id': 'xyz', 'class': 'abc 123'}\n",
      "<b class=\"abc 123\" id=\"xyz\"> Hello World</b>\n",
      "<b class=\"World\" id=\"HELLO\"> Hello World</b>\n",
      "World\n"
     ]
    }
   ],
   "source": [
    "html = '<b id=\"xyz\" class=\"abc 123\"> Hello World</b><span></span><span></span>'\n",
    "soup = BeautifulSoup(html, 'html.parser', multi_valued_attributes=None)\n",
    "tag = soup.b\n",
    "\n",
    "print(tag['id'])\n",
    "print(tag['class'])\n",
    "print(tag.attrs)\n",
    "print(tag)\n",
    "tag['id'] = 'HELLO'\n",
    "tag['class'] = 'World'\n",
    "print(tag)\n",
    "print(tag['class'])"
   ]
  },
  {
   "cell_type": "code",
   "execution_count": null,
   "id": "7d921277",
   "metadata": {},
   "outputs": [],
   "source": []
  },
  {
   "cell_type": "code",
   "execution_count": null,
   "id": "8d6eb2cf",
   "metadata": {},
   "outputs": [],
   "source": []
  },
  {
   "cell_type": "code",
   "execution_count": null,
   "id": "1a697e97",
   "metadata": {},
   "outputs": [],
   "source": []
  },
  {
   "cell_type": "code",
   "execution_count": null,
   "id": "dddfea84",
   "metadata": {},
   "outputs": [],
   "source": []
  },
  {
   "cell_type": "code",
   "execution_count": null,
   "id": "6d2ec0b7",
   "metadata": {},
   "outputs": [],
   "source": []
  },
  {
   "cell_type": "code",
   "execution_count": null,
   "id": "ef0dea11",
   "metadata": {},
   "outputs": [],
   "source": []
  }
 ],
 "metadata": {
  "kernelspec": {
   "display_name": "Python 3 (ipykernel)",
   "language": "python",
   "name": "python3"
  },
  "language_info": {
   "codemirror_mode": {
    "name": "ipython",
    "version": 3
   },
   "file_extension": ".py",
   "mimetype": "text/x-python",
   "name": "python",
   "nbconvert_exporter": "python",
   "pygments_lexer": "ipython3",
   "version": "3.12.3"
  }
 },
 "nbformat": 4,
 "nbformat_minor": 5
}
